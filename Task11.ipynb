{
 "cells": [
  {
   "cell_type": "code",
   "execution_count": 1,
   "id": "5a0e0447-1639-4729-af04-c8a5641300f8",
   "metadata": {},
   "outputs": [],
   "source": [
    "import pandas as pd"
   ]
  },
  {
   "cell_type": "code",
   "execution_count": 3,
   "id": "a7bff099-c185-46a8-9ef1-0125262f69b8",
   "metadata": {},
   "outputs": [],
   "source": [
    "user_data = pd.read_csv('user_data.csv', low_memory=False)\n",
    "subscriptions = pd.read_csv('subscriptions.csv', low_memory=False)\n",
    "marketing_spend = pd.read_csv('marketing_spend.csv', low_memory=False)"
   ]
  },
  {
   "cell_type": "code",
   "execution_count": 5,
   "id": "5ed00901-6cdf-4055-8c8e-32c9ed377e78",
   "metadata": {},
   "outputs": [],
   "source": [
    "subscriptions['customer_account_id'] = pd.to_numeric(subscriptions['customer_account_id'],errors='coerce').astype('Int64')"
   ]
  },
  {
   "cell_type": "code",
   "execution_count": 7,
   "id": "d019b6b7-d2d3-40cb-9019-ac74b0c59c2c",
   "metadata": {},
   "outputs": [],
   "source": [
    "subs_success = subscriptions[subscriptions['invoice_status'] == 'success']"
   ]
  },
  {
   "cell_type": "code",
   "execution_count": 9,
   "id": "6feda540-6221-482b-959b-decf5c353ffc",
   "metadata": {},
   "outputs": [],
   "source": [
    "total_rev_per_cust = (subs_success.groupby('customer_account_id')['order_amount'].sum())"
   ]
  },
  {
   "cell_type": "code",
   "execution_count": 11,
   "id": "50d9a002-da3d-41ef-bf65-e8eb8fb9b901",
   "metadata": {},
   "outputs": [],
   "source": [
    "mean_total_revenue = total_rev_per_cust.mean()"
   ]
  },
  {
   "cell_type": "code",
   "execution_count": 13,
   "id": "746945b3-7712-40c9-bacb-654a424014b6",
   "metadata": {},
   "outputs": [
    {
     "name": "stdout",
     "output_type": "stream",
     "text": [
      "Mean total revenue per customer: $111.03\n"
     ]
    }
   ],
   "source": [
    "print(f\"Mean total revenue per customer: ${mean_total_revenue:.2f}\")"
   ]
  },
  {
   "cell_type": "code",
   "execution_count": 15,
   "id": "71dd6706-9b72-4f6c-b350-b1daf5ffa028",
   "metadata": {},
   "outputs": [],
   "source": [
    "user_data['purchase_date_utc'] = pd.to_datetime(user_data['purchase_date_utc'], errors='coerce')\n",
    "subscriptions['order_created_at'] = pd.to_datetime(subscriptions['order_created_at'], errors='coerce')\n",
    "user_data['customer_account_id']  = pd.to_numeric(user_data['customer_account_id'], errors='coerce').astype('Int64')\n",
    "subscriptions['customer_account_id'] = pd.to_numeric(subscriptions['customer_account_id'], errors='coerce').astype('Int64')"
   ]
  },
  {
   "cell_type": "code",
   "execution_count": 17,
   "id": "98d8b76e-2178-4dd7-8614-fc761374dc4c",
   "metadata": {},
   "outputs": [],
   "source": [
    "cohort = user_data[(user_data['purchase_date_utc'].dt.year == 2024) &(user_data['purchase_date_utc'].dt.month == 7)]\n",
    "cohort_ids = cohort['customer_account_id'].dropna().astype(int).unique()"
   ]
  },
  {
   "cell_type": "code",
   "execution_count": 19,
   "id": "2b08c83c-0151-4e66-b93c-d9125cee2395",
   "metadata": {},
   "outputs": [],
   "source": [
    "subs_ok = subscriptions[(subscriptions['invoice_status'] == 'success') &(subscriptions['customer_account_id'].isin(cohort_ids))].copy()"
   ]
  },
  {
   "cell_type": "code",
   "execution_count": 21,
   "id": "b373655c-db09-4902-96fa-580cb2bff358",
   "metadata": {},
   "outputs": [],
   "source": [
    "subs_ok = subs_ok.merge(cohort[['customer_account_id', 'purchase_date_utc']],on='customer_account_id', how='left')\n",
    "subs_ok['days_since'] = (subs_ok['order_created_at'] - subs_ok['purchase_date_utc']).dt.days"
   ]
  },
  {
   "cell_type": "code",
   "execution_count": 23,
   "id": "85d6af2a-b458-49cc-9ca6-1c3a1d50dbbf",
   "metadata": {},
   "outputs": [],
   "source": [
    "revenue_3m  = subs_ok[subs_ok['days_since'] <=  90]['order_amount'].sum()\n",
    "revenue_6m  = subs_ok[subs_ok['days_since'] <= 180]['order_amount'].sum()\n",
    "revenue_12m = subs_ok[subs_ok['days_since'] <= 365]['order_amount'].sum()"
   ]
  },
  {
   "cell_type": "code",
   "execution_count": 25,
   "id": "3174caf1-9f78-4edb-8f3d-1ceae0584ad5",
   "metadata": {},
   "outputs": [
    {
     "name": "stdout",
     "output_type": "stream",
     "text": [
      "3 months:  $2,198,551.64\n",
      "6 months:  $2,837,187.83\n",
      "12 months: $3,462,383.19\n"
     ]
    }
   ],
   "source": [
    "print(f\"3 months:  ${revenue_3m:,.2f}\")\n",
    "print(f\"6 months:  ${revenue_6m:,.2f}\")\n",
    "print(f\"12 months: ${revenue_12m:,.2f}\")"
   ]
  },
  {
   "cell_type": "code",
   "execution_count": 27,
   "id": "95eb7c1d-55a4-4c79-be1e-dda9ab469a7e",
   "metadata": {},
   "outputs": [],
   "source": [
    "user_data['purchase_date_utc'] = pd.to_datetime(user_data['purchase_date_utc'], errors='coerce')\n",
    "subscriptions['order_created_at'] = pd.to_datetime(subscriptions['order_created_at'], errors='coerce')\n",
    "user_data['customer_account_id'] = pd.to_numeric(user_data['customer_account_id'], errors='coerce').astype('Int64')\n",
    "subscriptions['customer_account_id'] = pd.to_numeric(subscriptions['customer_account_id'], errors='coerce').astype('Int64')"
   ]
  },
  {
   "cell_type": "code",
   "execution_count": 29,
   "id": "47ee2403-3bef-4a7b-8e9e-76f9b3b889c3",
   "metadata": {},
   "outputs": [],
   "source": [
    "cohort = user_data[(user_data['purchase_date_utc'].dt.year == 2024) &(user_data['purchase_date_utc'].dt.month == 7)]\n",
    "cohort_ids = cohort['customer_account_id'].dropna().astype(int).unique()"
   ]
  },
  {
   "cell_type": "code",
   "execution_count": 31,
   "id": "a8f93d0b-22c1-48c4-a008-2a847b2560bb",
   "metadata": {},
   "outputs": [],
   "source": [
    "subs_ok = subscriptions[subscriptions['invoice_status'] == 'success']\n",
    "subs_cohort = subs_ok[subs_ok['customer_account_id'].isin(cohort_ids)].copy()"
   ]
  },
  {
   "cell_type": "code",
   "execution_count": 33,
   "id": "caa3586b-d87a-4c6b-b98f-b90347152011",
   "metadata": {},
   "outputs": [],
   "source": [
    "subs_cohort = subs_cohort.merge(cohort[['customer_account_id','purchase_date_utc']],on='customer_account_id', how='left')\n",
    "subs_cohort['days_since'] = (subs_cohort['order_created_at'] - subs_cohort['purchase_date_utc']).dt.days"
   ]
  },
  {
   "cell_type": "code",
   "execution_count": 35,
   "id": "c9b25676-f14a-4cf3-a5b6-b9a35a318ae5",
   "metadata": {},
   "outputs": [
    {
     "name": "stdout",
     "output_type": "stream",
     "text": [
      "Средний  кумулятивный доход на пользователя:\n",
      "  3 мес:  $ 68.66\n",
      "  6 мес:  $ 88.62\n",
      " 12 мес:  $ 108.15\n"
     ]
    }
   ],
   "source": [
    "def avg_ltv(days_limit):\n",
    "    temp = subs_cohort[(subs_cohort['days_since'] >= 0) &(subs_cohort['days_since'] <= days_limit)]\n",
    "    per_user = temp.groupby('customer_account_id')['order_amount'].sum()\n",
    "    per_user = per_user.reindex(cohort_ids, fill_value=0)\n",
    "    return per_user.mean()\n",
    "\n",
    "ltv_3m  = avg_ltv( 90)\n",
    "ltv_6m  = avg_ltv(180)\n",
    "ltv_12m = avg_ltv(365)\n",
    "\n",
    "print(\"Средний  кумулятивный доход на пользователя:\")\n",
    "print(f\"  3 мес:  ${ltv_3m: .2f}\")\n",
    "print(f\"  6 мес:  ${ltv_6m: .2f}\")\n",
    "print(f\" 12 мес:  ${ltv_12m: .2f}\")"
   ]
  },
  {
   "cell_type": "code",
   "execution_count": null,
   "id": "e8b8d2a4-569e-42a1-bcc8-8dacfbab2259",
   "metadata": {},
   "outputs": [],
   "source": []
  }
 ],
 "metadata": {
  "kernelspec": {
   "display_name": "Python [conda env:base] *",
   "language": "python",
   "name": "conda-base-py"
  },
  "language_info": {
   "codemirror_mode": {
    "name": "ipython",
    "version": 3
   },
   "file_extension": ".py",
   "mimetype": "text/x-python",
   "name": "python",
   "nbconvert_exporter": "python",
   "pygments_lexer": "ipython3",
   "version": "3.12.7"
  }
 },
 "nbformat": 4,
 "nbformat_minor": 5
}
