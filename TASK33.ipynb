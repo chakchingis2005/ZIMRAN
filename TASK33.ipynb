{
 "cells": [
  {
   "cell_type": "code",
   "execution_count": 25,
   "id": "e74a7fcb-4803-4b5b-b5a1-1f83743c9b65",
   "metadata": {},
   "outputs": [],
   "source": [
    "import pandas as pd"
   ]
  },
  {
   "cell_type": "code",
   "execution_count": 29,
   "id": "cd084bc7-3868-4ede-92ed-16e32e0f26e0",
   "metadata": {},
   "outputs": [],
   "source": [
    "user_data     = pd.read_csv('user_data.csv', low_memory=False, parse_dates=['purchase_date_utc'])\n",
    "subscriptions = pd.read_csv('subscriptions.csv', low_memory=False, parse_dates=['order_created_at'])"
   ]
  },
  {
   "cell_type": "code",
   "execution_count": 31,
   "id": "c0a82d8f-3ab4-4a2f-945e-9246c4cbece7",
   "metadata": {},
   "outputs": [],
   "source": [
    "user_data['customer_account_id']    = pd.to_numeric(user_data['customer_account_id'], errors='coerce').astype('Int64')\n",
    "subscriptions['customer_account_id']= pd.to_numeric(subscriptions['customer_account_id'], errors='coerce').astype('Int64')"
   ]
  },
  {
   "cell_type": "code",
   "execution_count": 33,
   "id": "9729d640-60b1-4eb2-857a-6f4a7ba2dc2f",
   "metadata": {},
   "outputs": [],
   "source": [
    "subs_success = subscriptions[subscriptions['invoice_status'] == 'success']"
   ]
  },
  {
   "cell_type": "code",
   "execution_count": 35,
   "id": "31f84cdd-5178-45cd-adcf-1dd6c6b7beee",
   "metadata": {},
   "outputs": [],
   "source": [
    "cohort = \n",
    "user_data[(user_data['purchase_date_utc'].dt.year == 2024) &(user_data['purchase_date_utc'].dt.month == 7)].copy()\n",
    "cohort_ids = cohort['customer_account_id'].dropna().astype(int).unique()"
   ]
  },
  {
   "cell_type": "code",
   "execution_count": 37,
   "id": "94f05a8b-92c6-41fc-8e9d-08a33ba2656d",
   "metadata": {},
   "outputs": [],
   "source": [
    "subs_cohort = \n",
    "(subs_success[subs_success['customer_account_id'].isin(cohort_ids)].merge\n",
    "(cohort[['customer_account_id','purchase_date_utc','age','geo_group','device_type']],on='customer_account_id', how='left'))"
   ]
  },
  {
   "cell_type": "code",
   "execution_count": 39,
   "id": "77aaa768-5010-4181-bd2f-1588d8d5a766",
   "metadata": {},
   "outputs": [],
   "source": [
    "subs_cohort['days_since'] = (subs_cohort['order_created_at'] - subs_cohort['purchase_date_utc']).dt.days"
   ]
  },
  {
   "cell_type": "code",
   "execution_count": 41,
   "id": "7f7d5c1c-5a8b-40c4-b23d-48ede0d5239e",
   "metadata": {},
   "outputs": [],
   "source": [
    "ltv_per_user = (subs_cohort[subs_cohort['days_since'] <= 365].groupby('customer_account_id')['order_amount'].sum().reset_index(name='ltv_12m'))"
   ]
  },
  {
   "cell_type": "code",
   "execution_count": 43,
   "id": "cdc8f160-3d3a-4c7d-a119-598ed9adf377",
   "metadata": {},
   "outputs": [],
   "source": [
    "ltv_per_user = ltv_per_user.merge(cohort[['customer_account_id','age','geo_group','device_type']],on='customer_account_id', how='left')"
   ]
  },
  {
   "cell_type": "code",
   "execution_count": 45,
   "id": "d14a62b7-7aec-4bfd-8b0c-ac5e0cbe5f0f",
   "metadata": {},
   "outputs": [],
   "source": [
    "CAC_JULY = 60.93"
   ]
  },
  {
   "cell_type": "code",
   "execution_count": 47,
   "id": "5039fd41-d4c2-4aa2-bae1-1aeaf296511c",
   "metadata": {},
   "outputs": [],
   "source": [
    "ltv_by_age = ( ltv_per_user.groupby('age')['ltv_12m'].mean().reset_index())\n",
    "ltv_by_age['ltv_cac_ratio'] = ltv_by_age['ltv_12m'] / CAC_JULY"
   ]
  },
  {
   "cell_type": "code",
   "execution_count": 49,
   "id": "464ed82f-08c7-4a6a-97e4-bba34e934183",
   "metadata": {},
   "outputs": [],
   "source": [
    "segment_ltv = (ltv_per_user.groupby(['geo_group','device_type'])['ltv_12m'].mean().reset_index())\n",
    "best_segment = segment_ltv.loc[segment_ltv['ltv_12m'].idxmax()]"
   ]
  },
  {
   "cell_type": "code",
   "execution_count": 53,
   "id": "1e3a3566-df4c-4bf1-9d82-21f8f44f6fa8",
   "metadata": {},
   "outputs": [
    {
     "name": "stdout",
     "output_type": "stream",
     "text": [
      "1) LTV:CAC ratio by age segment:\n",
      "  age    ltv_12m  ltv_cac_ratio\n",
      "18-24  64.918426       1.065459\n",
      "25-34  88.812752       1.457619\n",
      "35-44 115.464363       1.895033\n",
      "  45+ 142.632001       2.340916 \n",
      "\n",
      "2) Top-performing segment (geo_group & device_type):\n",
      "   geo_group: NON_ELITE_T1, device_type: other, avg 12m LTV: $131.28\n",
      "\n",
      "3) Recommendation:\n",
      "   Focus acquisition & product efforts on the above segment and the 45+ age group, which show the highest LTV:CAC and absolute LTV.\n"
     ]
    }
   ],
   "source": [
    "print(\"1) LTV:CAC ratio by age segment:\")\n",
    "print(ltv_by_age.to_string(index=False), \"\\n\")\n",
    "\n",
    "print(\"2) Top-performing segment (geo_group & device_type):\")\n",
    "print(f\"   geo_group: {best_segment['geo_group']}, \"\n",
    "      f\"device_type: {best_segment['device_type']}, \"\n",
    "      f\"avg 12m LTV: ${best_segment['ltv_12m']:.2f}\\n\")\n",
    "\n",
    "print(\"3) Recommendation:\")\n",
    "print(\"   Focus acquisition & product efforts on the above segment and the 45+ age group, \"\n",
    "      \"which show the highest LTV:CAC and absolute LTV.\")"
   ]
  },
  {
   "cell_type": "code",
   "execution_count": null,
   "id": "b8f3793c-0979-4192-ae05-8f2fb95a26db",
   "metadata": {},
   "outputs": [],
   "source": []
  }
 ],
 "metadata": {
  "kernelspec": {
   "display_name": "Python [conda env:base] *",
   "language": "python",
   "name": "conda-base-py"
  },
  "language_info": {
   "codemirror_mode": {
    "name": "ipython",
    "version": 3
   },
   "file_extension": ".py",
   "mimetype": "text/x-python",
   "name": "python",
   "nbconvert_exporter": "python",
   "pygments_lexer": "ipython3",
   "version": "3.12.7"
  }
 },
 "nbformat": 4,
 "nbformat_minor": 5
}
