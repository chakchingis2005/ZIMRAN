{
 "cells": [
  {
   "cell_type": "code",
   "execution_count": 1,
   "id": "9959a278-123d-48ef-bced-83296346e6c4",
   "metadata": {},
   "outputs": [],
   "source": [
    "import pandas as pd"
   ]
  },
  {
   "cell_type": "code",
   "execution_count": 3,
   "id": "7f5c52f1-c966-493f-8bb4-7c3fb0850374",
   "metadata": {},
   "outputs": [],
   "source": [
    "marketing_spend = pd.read_csv('marketing_spend.csv', low_memory=False)\n",
    "user_data       = pd.read_csv('user_data.csv',         low_memory=False)"
   ]
  },
  {
   "cell_type": "code",
   "execution_count": 5,
   "id": "064f58d9-4f3b-42f0-b10b-e50304d271d5",
   "metadata": {},
   "outputs": [],
   "source": [
    "marketing_spend['date_start'] = pd.to_datetime(marketing_spend['date_start'], errors='coerce')\n",
    "user_data['purchase_date_utc'] = pd.to_datetime(user_data['purchase_date_utc'], errors='coerce')"
   ]
  },
  {
   "cell_type": "code",
   "execution_count": 7,
   "id": "f55b9082-3113-46aa-83a4-bcbd68dfd563",
   "metadata": {},
   "outputs": [],
   "source": [
    "user_data['customer_account_id'] = pd.to_numeric(user_data['customer_account_id'],errors ='coerce').astype('Int64')"
   ]
  },
  {
   "cell_type": "code",
   "execution_count": 9,
   "id": "ef5e927e-d7bc-4461-93cb-577c846108d5",
   "metadata": {},
   "outputs": [],
   "source": [
    "july_spend = marketing_spend[(marketing_spend['date_start'].dt.year == 2024) & (marketing_spend['date_start'].dt.month == 7)]['spend'].sum()"
   ]
  },
  {
   "cell_type": "code",
   "execution_count": 11,
   "id": "a6a5a980-c775-4fdc-ba69-81635d0c798f",
   "metadata": {},
   "outputs": [],
   "source": [
    "new_users = user_data[(user_data['purchase_date_utc'].dt.year == 2024) &(user_data['purchase_date_utc'].dt.month == 7)]['customer_account_id'].nunique()"
   ]
  },
  {
   "cell_type": "code",
   "execution_count": 13,
   "id": "a20b8d0e-57d7-40be-8cd3-55aeeb2fa35a",
   "metadata": {},
   "outputs": [],
   "source": [
    "cac_july = july_spend / new_users"
   ]
  },
  {
   "cell_type": "code",
   "execution_count": 17,
   "id": "9cfe8c49-440d-46ae-8643-3d69df9d3297",
   "metadata": {},
   "outputs": [
    {
     "name": "stdout",
     "output_type": "stream",
     "text": [
      "Total marketing spend (July 2024): $1,950,545.97\n",
      "New users acquired    (July 2024): 32011\n",
      "Blended CAC           (July 2024): $60.93\n"
     ]
    }
   ],
   "source": [
    "print(f\"Total marketing spend (July 2024): ${july_spend:,.2f}\")\n",
    "print(f\"New users acquired    (July 2024): {new_users}\")\n",
    "print(f\"Blended CAC           (July 2024): ${cac_july:,.2f}\")"
   ]
  },
  {
   "cell_type": "code",
   "execution_count": null,
   "id": "72f139fd-5eda-445b-9a0f-f0c8822ec9c9",
   "metadata": {},
   "outputs": [],
   "source": []
  }
 ],
 "metadata": {
  "kernelspec": {
   "display_name": "Python [conda env:base] *",
   "language": "python",
   "name": "conda-base-py"
  },
  "language_info": {
   "codemirror_mode": {
    "name": "ipython",
    "version": 3
   },
   "file_extension": ".py",
   "mimetype": "text/x-python",
   "name": "python",
   "nbconvert_exporter": "python",
   "pygments_lexer": "ipython3",
   "version": "3.12.7"
  }
 },
 "nbformat": 4,
 "nbformat_minor": 5
}
